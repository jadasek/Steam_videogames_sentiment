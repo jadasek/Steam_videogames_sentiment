{
 "cells": [
  {
   "cell_type": "code",
   "execution_count": 1,
   "metadata": {},
   "outputs": [
    {
     "data": {
      "application/vnd.jupyter.widget-view+json": {
       "model_id": "cb074548dcc44cb0917bbcd671899276",
       "version_major": 2,
       "version_minor": 0
      },
      "text/plain": [
       "  0%|          | 0/735 [00:00<?, ?it/s]"
      ]
     },
     "metadata": {},
     "output_type": "display_data"
    },
    {
     "data": {
      "application/vnd.jupyter.widget-view+json": {
       "model_id": "1d4650c0c7544c4191f32749c72bc3c7",
       "version_major": 2,
       "version_minor": 0
      },
      "text/plain": [
       "  0%|          | 0/24 [00:00<?, ?it/s]"
      ]
     },
     "metadata": {},
     "output_type": "display_data"
    }
   ],
   "source": [
    "import snscrape.modules.twitter as sntwitter\n",
    "import pandas as pd\n",
    "import re\n",
    "from tqdm.auto import tqdm\n",
    "from datetime import datetime, timedelta\n",
    "\n",
    "games = ['CSGO', 'Valorant', 'Overwatch', 'Apex Legends', 'PUBG', 'Fortnite', 'League of Legends', 'Minecraft', 'Roblox', '(Grand Theft Auto OR GTA)', '(Borderlands2 OR Borderlands 2)', '(RDR2 OR Red Dead Redemption 2)', 'Detroit Become Human', 'Skyrim', 'Dark Souls', '(Portal OR Portal 2)', '(Breath of the wild OR BOTW)', 'Mario', 'Pokemon', 'Terraria', 'Animal Crossing', '(The witcher 3 OR The witcher OR TW3)', '(COD OR Call of Duty)', 'God of War']\n",
    "types = ['Music', '(plot OR story)', 'Gameplay', '(graphics OR graphic)', '(characters OR character)', 'UI', 'Enviroment', '(Control OR controls)', 'community']\n",
    "now = datetime.now()\n",
    "date_only = now.date()\n",
    "\n",
    "until = date_only\n",
    "since = date_only - timedelta(7)\n",
    "\n",
    "tweets = []\n",
    "def pre_process(text):\n",
    "    # Usuwanie linków\n",
    "    text = re.sub('http://\\S+|https://\\S+', '', text)\n",
    "    text = re.sub('http[s]?://\\S+', '', text)\n",
    "    text = re.sub(r\"http\\S+\", \"\", text)\n",
    "\n",
    "    # Napraw wbudowane linki\n",
    "    text = re.sub('&amp', 'and', text)\n",
    "    text = re.sub('&lt', '<', text)\n",
    "    text = re.sub('&gt', '>', text)\n",
    "\n",
    "    # Usuwanie znaków nowej linii\n",
    "    text = re.sub('[\\r\\n]+', ' ', text)\n",
    "    \n",
    "    # Usuwanie @\n",
    "    text = re.sub(r'@\\w+', '', text)\n",
    "    \n",
    "    # Usuwanie #\n",
    "    text = re.sub(r'#\\w+', '', text)\n",
    "\n",
    "    # Usuń wielokrotności spacji\n",
    "    text = re.sub('\\s+',' ', text)\n",
    "    \n",
    "    # Przełóż na lowercase\n",
    "    text = text.lower()\n",
    "    return text\n",
    "\n",
    "# Przeglądamy 500 tweetów dla danego hasztagu\n",
    "pbar2 = tqdm(total=735)\n",
    "pbar = tqdm(total=len(games))\n",
    "s = ' -'.join(types)\n",
    "for i in range(0,735,7):\n",
    "    until_temp = until - timedelta(i)\n",
    "    since_temp = since - timedelta(i)\n",
    "    pbar.reset()\n",
    "    for game in games:\n",
    "        for t in types:\n",
    "            try:\n",
    "                scraper = sntwitter.TwitterSearchScraper(f'{game} {t} until:{until_temp} since:{since_temp}')\n",
    "                for i, tweet in enumerate(scraper.get_items()):\n",
    "                    try:\n",
    "                        data = [\n",
    "                            tweet.date,\n",
    "                            tweet.id,\n",
    "                            tweet.rawContent,\n",
    "                            tweet.user.username,\n",
    "                            tweet.likeCount,\n",
    "                            tweet.retweetCount,\n",
    "                            tweet.viewCount,\n",
    "                            tweet.lang,\n",
    "                            tweet.links,\n",
    "                            tweet.media,\n",
    "                            game,\n",
    "                            t\n",
    "                        ]\n",
    "                        if data[4] == data[5]:\n",
    "                            continue\n",
    "                        else:\n",
    "                            data[2] = pre_process(data[2])\n",
    "                            if data[2] == ' ' or data[2] == '':\n",
    "                                continue\n",
    "                            else:\n",
    "                                tweets.append(data)\n",
    "                                if i >= 500:\n",
    "                                    break\n",
    "                    except:\n",
    "                        continue\n",
    "            except:\n",
    "                break\n",
    "\n",
    "        scraper = sntwitter.TwitterSearchScraper(f'{game} until:{until_temp} since:{since_temp} -{s}')\n",
    "        try:\n",
    "            for i, tweet in enumerate(scraper.get_items()):\n",
    "                try:\n",
    "                    data = [\n",
    "                        tweet.date,\n",
    "                        tweet.id,\n",
    "                        tweet.rawContent,\n",
    "                        tweet.user.username,\n",
    "                        tweet.likeCount,\n",
    "                        tweet.retweetCount,\n",
    "                        tweet.viewCount,\n",
    "                        tweet.lang,\n",
    "                        tweet.links,\n",
    "                        tweet.media,\n",
    "                        game,\n",
    "                        \"other\"\n",
    "                    ]\n",
    "                    if data[4] == data[5]:\n",
    "                        continue\n",
    "                    else:\n",
    "                        data[2] = pre_process(data[2])\n",
    "                        if data[2] == ' ' or data[2] == '':\n",
    "                            continue\n",
    "                        else:\n",
    "                            tweets.append(data)\n",
    "                            if i >= 500:\n",
    "                                break\n",
    "                except:\n",
    "                    continue\n",
    "        except:\n",
    "            break\n",
    "        pbar.update(1)\n",
    "    pbar2.update(7)\n",
    "\n",
    "a=pd.DataFrame(tweets, columns=['date', 'id', 'content', 'username','like_count','retweet_count', 'view_count', 'language', 'links','media','game','type'])\n",
    "\n",
    "a.head()\n",
    "\n"
   ]
  },
  {
   "cell_type": "code",
   "execution_count": 22,
   "metadata": {},
   "outputs": [],
   "source": [
    "a['id'] = a['id'].astype('string')\n",
    "a['date'] = a['date'].dt.tz_localize(None)\n",
    "a.to_excel(r'export_dataframe.xlsx', index=False)"
   ]
  }
 ],
 "metadata": {
  "kernelspec": {
   "display_name": "Python 3",
   "language": "python",
   "name": "python3"
  },
  "language_info": {
   "codemirror_mode": {
    "name": "ipython",
    "version": 3
   },
   "file_extension": ".py",
   "mimetype": "text/x-python",
   "name": "python",
   "nbconvert_exporter": "python",
   "pygments_lexer": "ipython3",
   "version": "3.10.10"
  },
  "orig_nbformat": 4
 },
 "nbformat": 4,
 "nbformat_minor": 2
}

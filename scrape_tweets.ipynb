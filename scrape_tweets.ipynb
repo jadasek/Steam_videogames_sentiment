{
 "cells": [
  {
   "cell_type": "code",
   "execution_count": 27,
   "metadata": {},
   "outputs": [
    {
     "data": {
      "application/vnd.jupyter.widget-view+json": {
       "model_id": "e74d33f9275844a481cf1a464c3ad178",
       "version_major": 2,
       "version_minor": 0
      },
      "text/plain": [
       "  0%|          | 0/501 [00:00<?, ?it/s]"
      ]
     },
     "metadata": {},
     "output_type": "display_data"
    },
    {
     "data": {
      "text/html": [
       "<div>\n",
       "<style scoped>\n",
       "    .dataframe tbody tr th:only-of-type {\n",
       "        vertical-align: middle;\n",
       "    }\n",
       "\n",
       "    .dataframe tbody tr th {\n",
       "        vertical-align: top;\n",
       "    }\n",
       "\n",
       "    .dataframe thead th {\n",
       "        text-align: right;\n",
       "    }\n",
       "</style>\n",
       "<table border=\"1\" class=\"dataframe\">\n",
       "  <thead>\n",
       "    <tr style=\"text-align: right;\">\n",
       "      <th></th>\n",
       "      <th>date</th>\n",
       "      <th>id</th>\n",
       "      <th>content</th>\n",
       "      <th>username</th>\n",
       "      <th>like_count</th>\n",
       "      <th>retweet_count</th>\n",
       "      <th>language</th>\n",
       "    </tr>\n",
       "  </thead>\n",
       "  <tbody>\n",
       "    <tr>\n",
       "      <th>0</th>\n",
       "      <td>2023-03-29 11:21:37+00:00</td>\n",
       "      <td>1641037892955914241</td>\n",
       "      <td>langguth szilvai</td>\n",
       "      <td>Hi1PmYjX1jAiJZY</td>\n",
       "      <td>13</td>\n",
       "      <td>13</td>\n",
       "      <td>in</td>\n",
       "    </tr>\n",
       "    <tr>\n",
       "      <th>1</th>\n",
       "      <td>2023-03-29 11:21:03+00:00</td>\n",
       "      <td>1641037748957220864</td>\n",
       "      <td>khaleda hatsuaki</td>\n",
       "      <td>i6w83RgcPeN2Iew</td>\n",
       "      <td>16</td>\n",
       "      <td>16</td>\n",
       "      <td>et</td>\n",
       "    </tr>\n",
       "    <tr>\n",
       "      <th>2</th>\n",
       "      <td>2023-03-29 11:20:50+00:00</td>\n",
       "      <td>1641037696683638785</td>\n",
       "      <td>naoe kaseyama pg</td>\n",
       "      <td>xboy44215910</td>\n",
       "      <td>14</td>\n",
       "      <td>14</td>\n",
       "      <td>und</td>\n",
       "    </tr>\n",
       "    <tr>\n",
       "      <th>3</th>\n",
       "      <td>2023-03-29 11:19:11+00:00</td>\n",
       "      <td>1641037280881283072</td>\n",
       "      <td>hikkel kolla</td>\n",
       "      <td>Hi1PmYjX1jAiJZY</td>\n",
       "      <td>16</td>\n",
       "      <td>16</td>\n",
       "      <td>et</td>\n",
       "    </tr>\n",
       "    <tr>\n",
       "      <th>4</th>\n",
       "      <td>2023-03-29 11:17:28+00:00</td>\n",
       "      <td>1641036849668931584</td>\n",
       "      <td>svirezhev quinault mg</td>\n",
       "      <td>xboy44215910</td>\n",
       "      <td>13</td>\n",
       "      <td>13</td>\n",
       "      <td>und</td>\n",
       "    </tr>\n",
       "  </tbody>\n",
       "</table>\n",
       "</div>"
      ],
      "text/plain": [
       "                       date                   id                content  \\\n",
       "0 2023-03-29 11:21:37+00:00  1641037892955914241       langguth szilvai   \n",
       "1 2023-03-29 11:21:03+00:00  1641037748957220864       khaleda hatsuaki   \n",
       "2 2023-03-29 11:20:50+00:00  1641037696683638785       naoe kaseyama pg   \n",
       "3 2023-03-29 11:19:11+00:00  1641037280881283072           hikkel kolla   \n",
       "4 2023-03-29 11:17:28+00:00  1641036849668931584  svirezhev quinault mg   \n",
       "\n",
       "          username  like_count  retweet_count language  \n",
       "0  Hi1PmYjX1jAiJZY          13             13       in  \n",
       "1  i6w83RgcPeN2Iew          16             16       et  \n",
       "2     xboy44215910          14             14      und  \n",
       "3  Hi1PmYjX1jAiJZY          16             16       et  \n",
       "4     xboy44215910          13             13      und  "
      ]
     },
     "execution_count": 27,
     "metadata": {},
     "output_type": "execute_result"
    }
   ],
   "source": [
    "import snscrape.modules.twitter as sntwitter\n",
    "import pandas as pd\n",
    "import re\n",
    "from tqdm.notebook import tqdm\n",
    "import string\n",
    "\n",
    "scraper = sntwitter.TwitterSearchScraper('CSGO min_replies:1 min_faves:10')\n",
    "\n",
    "tweets = []\n",
    "\n",
    "# Przeglądamy 50 najpopularniejszych tweetów dla danego hasztagu\n",
    "for i, tweet in enumerate(tqdm(scraper.get_items(), total=501)):\n",
    "    data = [\n",
    "        tweet.date,\n",
    "        tweet.id,\n",
    "        tweet.rawContent,\n",
    "        tweet.user.username,\n",
    "        tweet.likeCount,\n",
    "        tweet.retweetCount,\n",
    "        tweet.lang\n",
    "    ]\n",
    "    #print(data[2])\n",
    "    data[2] = ' '.join(re.sub(\"(@[A-Za-z0-9]+)|([^0-9A-Za-z \\t])|(\\w+:\\/\\/\\S+)\",\" \",tweet.rawContent).split())\n",
    "    data[2] = data[2].lower()\n",
    "    if data[2] == ' ' or data[2] == '':\n",
    "        continue\n",
    "    else:\n",
    "        tweets.append(data)  # Dodajemy treść tweetu do listy tweets\n",
    "        if i > 500:  # Przerywamy pętlę, gdy pobraliśmy 50 tweetów\n",
    "            break\n",
    "\n",
    "a=pd.DataFrame(tweets, columns=['date', 'id', 'content', 'username','like_count','retweet_count', 'language'])\n",
    "a.head()\n"
   ]
  },
  {
   "cell_type": "code",
   "execution_count": 28,
   "metadata": {},
   "outputs": [],
   "source": [
    "a['date'] = a['date'].dt.tz_localize(None)\n",
    "a.to_excel(r'export_dataframe.xlsx', index=False)"
   ]
  }
 ],
 "metadata": {
  "kernelspec": {
   "display_name": "Python 3",
   "language": "python",
   "name": "python3"
  },
  "language_info": {
   "codemirror_mode": {
    "name": "ipython",
    "version": 3
   },
   "file_extension": ".py",
   "mimetype": "text/x-python",
   "name": "python",
   "nbconvert_exporter": "python",
   "pygments_lexer": "ipython3",
   "version": "3.10.10"
  },
  "orig_nbformat": 4
 },
 "nbformat": 4,
 "nbformat_minor": 2
}

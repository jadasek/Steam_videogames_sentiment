{
 "cells": [
  {
   "cell_type": "code",
   "execution_count": 5,
   "metadata": {},
   "outputs": [
    {
     "data": {
      "text/plain": [
       "{'sequence': 'Outdated visual fidelity, expensive season passes, additional dlcs, same bugs in the game for months or years. I played it quite a bit, but not because it is the best farming simulator.. because it is the __only one__ (others have tried but are even worse). I get it, it is hard and expensive to make one, it gets very technical very quickly, but the lack of competition in the farm sim genre is very noticeable. Innovation has stagnated and the idea is just being milked by Giants for eternity .. pun intended :P So, big thumbs up for simply existing, thumbs up for the active modding scene, thumbs down for the outdated engine, thumbs down for lack of continued refinement and another thumbs down for their monetization efforts (pretty much the EA playbook) .. leaves me with a thumbs down overall, even though I would choose neutral, if there would be an option like this.',\n",
       " 'labels': ['graphics',\n",
       "  'Enviroment',\n",
       "  'community',\n",
       "  'story',\n",
       "  'Gameplay',\n",
       "  'characters',\n",
       "  'UI',\n",
       "  'controls',\n",
       "  'Music'],\n",
       " 'scores': [0.7489339113235474,\n",
       "  0.441753089427948,\n",
       "  0.3585028350353241,\n",
       "  0.27249208092689514,\n",
       "  0.22955510020256042,\n",
       "  0.11601421982049942,\n",
       "  0.09749338775873184,\n",
       "  0.051244884729385376,\n",
       "  0.028117133304476738]}"
      ]
     },
     "execution_count": 5,
     "metadata": {},
     "output_type": "execute_result"
    }
   ],
   "source": [
    "from transformers import pipeline\n",
    "classifier = pipeline(\"zero-shot-classification\",\n",
    "                      model=\"valhalla/distilbart-mnli-12-1\")\n",
    "sequence_to_classify = \"Outdated visual fidelity, expensive season passes, additional dlcs, same bugs in the game for months or years. I played it quite a bit, but not because it is the best farming simulator.. because it is the __only one__ (others have tried but are even worse). I get it, it is hard and expensive to make one, it gets very technical very quickly, but the lack of competition in the farm sim genre is very noticeable. Innovation has stagnated and the idea is just being milked by Giants for eternity .. pun intended :P So, big thumbs up for simply existing, thumbs up for the active modding scene, thumbs down for the outdated engine, thumbs down for lack of continued refinement and another thumbs down for their monetization efforts (pretty much the EA playbook) .. leaves me with a thumbs down overall, even though I would choose neutral, if there would be an option like this.\"\n",
    "\n",
    "candidate_labels = ['Music', 'story', 'Gameplay', 'graphics', 'characters', 'UI', 'Enviroment', 'controls', 'community']\n",
    "classifier(sequence_to_classify, candidate_labels, multi_label=True)"
   ]
  },
  {
   "cell_type": "code",
   "execution_count": null,
   "metadata": {},
   "outputs": [],
   "source": []
  },
  {
   "cell_type": "code",
   "execution_count": null,
   "metadata": {},
   "outputs": [],
   "source": []
  }
 ],
 "metadata": {
  "kernelspec": {
   "display_name": "Python 3",
   "language": "python",
   "name": "python3"
  },
  "language_info": {
   "codemirror_mode": {
    "name": "ipython",
    "version": 3
   },
   "file_extension": ".py",
   "mimetype": "text/x-python",
   "name": "python",
   "nbconvert_exporter": "python",
   "pygments_lexer": "ipython3",
   "version": "3.10.10"
  },
  "orig_nbformat": 4
 },
 "nbformat": 4,
 "nbformat_minor": 2
}

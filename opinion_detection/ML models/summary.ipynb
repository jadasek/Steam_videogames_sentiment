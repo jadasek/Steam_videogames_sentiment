{
 "cells": [
  {
   "cell_type": "code",
   "execution_count": 3,
   "metadata": {},
   "outputs": [
    {
     "data": {
      "application/vnd.jupyter.widget-view+json": {
       "model_id": "cba8afc4d6544308a1a2c7bc42621429",
       "version_major": 2,
       "version_minor": 0
      },
      "text/plain": [
       "Downloading (…)lve/main/config.json:   0%|          | 0.00/1.58k [00:00<?, ?B/s]"
      ]
     },
     "metadata": {},
     "output_type": "display_data"
    },
    {
     "data": {
      "application/vnd.jupyter.widget-view+json": {
       "model_id": "29bb237a3164452185bd78acf49de21b",
       "version_major": 2,
       "version_minor": 0
      },
      "text/plain": [
       "Downloading pytorch_model.bin:   0%|          | 0.00/1.63G [00:00<?, ?B/s]"
      ]
     },
     "metadata": {},
     "output_type": "display_data"
    },
    {
     "data": {
      "application/vnd.jupyter.widget-view+json": {
       "model_id": "c777456e41aa4b9ab38b547552c8b894",
       "version_major": 2,
       "version_minor": 0
      },
      "text/plain": [
       "Downloading (…)neration_config.json:   0%|          | 0.00/363 [00:00<?, ?B/s]"
      ]
     },
     "metadata": {},
     "output_type": "display_data"
    },
    {
     "data": {
      "application/vnd.jupyter.widget-view+json": {
       "model_id": "2381baf6971845719572263963423882",
       "version_major": 2,
       "version_minor": 0
      },
      "text/plain": [
       "Downloading (…)olve/main/vocab.json:   0%|          | 0.00/899k [00:00<?, ?B/s]"
      ]
     },
     "metadata": {},
     "output_type": "display_data"
    },
    {
     "data": {
      "application/vnd.jupyter.widget-view+json": {
       "model_id": "2128fc2822404f9bb3e018c5f427f9d5",
       "version_major": 2,
       "version_minor": 0
      },
      "text/plain": [
       "Downloading (…)olve/main/merges.txt:   0%|          | 0.00/456k [00:00<?, ?B/s]"
      ]
     },
     "metadata": {},
     "output_type": "display_data"
    },
    {
     "data": {
      "application/vnd.jupyter.widget-view+json": {
       "model_id": "62f14ebae0b8437eabfda611a6d92a00",
       "version_major": 2,
       "version_minor": 0
      },
      "text/plain": [
       "Downloading (…)/main/tokenizer.json:   0%|          | 0.00/1.36M [00:00<?, ?B/s]"
      ]
     },
     "metadata": {},
     "output_type": "display_data"
    },
    {
     "name": "stdout",
     "output_type": "stream",
     "text": [
      "[{'summary_text': \"Giants released Farming Simulator 19 on a similar basis as EA releases Fifa every year. Spoil the optimization without improving the graphics at all compared to Farming 19? Circus. Unplayable at the moment, but since I already spent this money (yes, in August, as part of the preorder, because I thought it would be what I've been waiting for these 3 years ...) I have no other choice.\"}]\n"
     ]
    }
   ],
   "source": [
    "from transformers import pipeline\n",
    "\n",
    "summarizer = pipeline(\"summarization\", model=\"facebook/bart-large-cnn\")\n",
    "\n",
    "ARTICLE = '''\n",
    "To quote the classic: \"As if a man knew, and yet he deceived himself\"\n",
    "\n",
    "With this quote, I can perfectly sum up what kind of \"crap\" the Giants released us..\n",
    "I've been playing the Farming Simulator series for over 11 years, but I've never seen anything like it. FS19, that was a spoiler for what else the Giants have to prove to us (in this negative reflection of course).\n",
    "\n",
    "Graphics? GTA Trilogy Definitive Edition by Giants XD It can be compared to this.\n",
    "Soil physics? Haha, would you like to.. But! In return, you get a wider range of crops, additional possibilities in the production of various foodstuffs, the cultivation of grapes.. Oh no, wait! You've already seen it in modhub FS19 :)\n",
    "optimization? Good question..\n",
    "Better terrain editor? Maybe in FS24..\n",
    "More machines? Well, actually, we added a few to you, but you also saw it in the FS19 modhub :)\n",
    "Polished AI? XDDDD!\n",
    "Congested traffic? Sir, please turn it off right now.\n",
    "textures? What's this? In fact, I have already compared it to a certain production above..\n",
    "\n",
    "Honestly? I don't even feel like writing more about this game. I feel like I'm playing an EA product.\n",
    "One player in the review well pointed out that Giants released this year's Farming on a similar basis as EA releases Fifa every year..\n",
    "\n",
    "Yes, I know it's a new production, freshly released. But let's respect each other ... Spoil the optimization without improving the graphics at all compared to Farming 19? Circus..\n",
    "\n",
    "One big buble .. Unplayable at the moment, but since I already spent this money (yes, in August, as part of the preorder, because I thought it would be what I've been waiting for these 3 years ...) I have no other choice. I bite my lip and enjoy the wooden physics, the exquisite nystagmus of textures, the bright occlusion, and the dog that runs into the texture of the house instead of going into the kennel - then disappears..\n",
    "'''\n",
    "\n",
    "print(summarizer(ARTICLE, max_length=250, min_length=60, do_sample=False))"
   ]
  }
 ],
 "metadata": {
  "kernelspec": {
   "display_name": "Python 3",
   "language": "python",
   "name": "python3"
  },
  "language_info": {
   "codemirror_mode": {
    "name": "ipython",
    "version": 3
   },
   "file_extension": ".py",
   "mimetype": "text/x-python",
   "name": "python",
   "nbconvert_exporter": "python",
   "pygments_lexer": "ipython3",
   "version": "3.10.10"
  },
  "orig_nbformat": 4
 },
 "nbformat": 4,
 "nbformat_minor": 2
}
